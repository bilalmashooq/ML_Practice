{
 "cells": [
  {
   "cell_type": "markdown",
   "id": "870e2d86-c0a2-4ef2-84ee-b3795630781a",
   "metadata": {},
   "source": [
    "# Embeddings"
   ]
  },
  {
   "cell_type": "markdown",
   "id": "4f4ba25d",
   "metadata": {},
   "source": [
    "In this tutorial, we will be covering embeddings leveraging on Ollama using `ollama pull mxbai-embed-large`.\n",
    "\n",
    "This is a critical prerequisite as it is the foundation of the \"R\" of Retrieval Augmented Generation (RAG).\n",
    "\n",
    "After this tutorial, we can move on to the \"AG\" of RAG which focuses on leveraging on LLMs to take our top retrieved results and answer questions.\n",
    "\n",
    "In totality, we will cover a range of basic to advanced RAG architectures spanning across:\n",
    "\n",
    "1. semantic similarity through vector search using biencoders,\n",
    "2. lexical similarity through keyword search,\n",
    "3. ranking most relevant results through semantic reranking using cross-encoders,\n",
    "4. semantic chunking\n",
    "5. fine-tuning LLMs using QLoRA and LoRA, and\n",
    "6. a combination of all of the above."
   ]
  },
  {
   "cell_type": "markdown",
   "id": "a7cbd8a5",
   "metadata": {},
   "source": [
    "## Environment Setup"
   ]
  },
  {
   "cell_type": "markdown",
   "id": "bdaca7ad",
   "metadata": {},
   "source": [
    "!!! tip \"Options\"\n",
    "\n",
    "    === \"**Easy Option | Install Ollama Directly**\"\n",
    "\n",
    "        If you do not want to run apptainer, feel free to just install the [Ollama](https://ollama.com) executable, and you can get up and running with all the Ollama commands like `ollama serve` and `ollama pull mxbai-embed-large` for example.\n",
    "\n",
    "    === \"**Hard/Scalable Option | Using Apptainer**\"\n",
    "\n",
    "        Follow our [tutorial on Apptainer](https://www.deeplearningwizard.com/language_model/containers/hpc_containers_apptainer/) to get started. Once you have followed the tutorial till the [Ollama section](https://www.deeplearningwizard.com/language_model/containers/hpc_containers_apptainer/#ollama-multi-modal-workloads-example-llava7b-v16) where you successfully ran `ollama serve` and `ollama pull mxbai-embed-large`, you can run the `apptainer shell --nv --nvccli apptainer_container_0.1.sif` command followed by `jupyter lab` to access and run this notebook.\n",
    "        \n",
    "        When you shell into the Apptainer `.sif` container, you will need to navigate the directory as you normally would into the Deep Learning Wizard repository that you cloned, requiring you to `cd ..` to go back a few directories and finally reaching the right folder. "
   ]
  },
  {
   "cell_type": "markdown",
   "id": "8ffc2ed2-32b6-4790-af19-0e3918394905",
   "metadata": {},
   "source": [
    "## Embedding Example"
   ]
  },
  {
   "cell_type": "markdown",
   "id": "ead6e6fc",
   "metadata": {},
   "source": [
    "In this section, we will cover the basics of embeddings which in simple terms, given a bunch of words, we can represent them by a bunch of numbers using an embedding model."
   ]
  },
  {
   "cell_type": "code",
   "execution_count": 2,
   "id": "2d84feec-b60e-4be8-824d-4764fa79c8e3",
   "metadata": {},
   "outputs": [],
   "source": [
    "# Import the Ollama module\n",
    "import ollama"
   ]
  },
  {
   "cell_type": "markdown",
   "id": "8c2242d0",
   "metadata": {},
   "source": [
    "Here, we use a simple sentence \"An apple a day is good for you\" to illustrate embeddings. In the following code we convert a sample sentence into sentence embeddings."
   ]
  },
  {
   "cell_type": "code",
   "execution_count": 17,
   "id": "28d505ae-e7e4-41c1-94f9-9350c1a0c118",
   "metadata": {},
   "outputs": [],
   "source": [
    "# Create a sample sentence\n",
    "text = 'An Apple a day is good for you!'\n",
    "\n",
    "# Pass the sentence to our embedding model \n",
    "embeds = ollama.embeddings(model='mxbai-embed-large', \n",
    "                           prompt=f'{text}')"
   ]
  },
  {
   "cell_type": "code",
   "execution_count": 18,
   "id": "aa35843b-4836-49ac-a29f-ab83505a6648",
   "metadata": {},
   "outputs": [
    {
     "data": {
      "text/plain": [
       "dict"
      ]
     },
     "execution_count": 18,
     "metadata": {},
     "output_type": "execute_result"
    }
   ],
   "source": [
    "# The object returned is a dictionary\n",
    "type(embeds)"
   ]
  },
  {
   "cell_type": "code",
   "execution_count": 19,
   "id": "c6e44169-185c-41f5-8fa8-85089600d9a3",
   "metadata": {},
   "outputs": [
    {
     "data": {
      "text/plain": [
       "dict_keys(['embedding'])"
      ]
     },
     "execution_count": 19,
     "metadata": {},
     "output_type": "execute_result"
    }
   ],
   "source": [
    "# With the key 'embedding'\n",
    "embeds.keys()"
   ]
  },
  {
   "cell_type": "code",
   "execution_count": 20,
   "id": "83a353cc-d847-4a77-a8fd-9e52ec1374fd",
   "metadata": {},
   "outputs": [
    {
     "data": {
      "text/plain": [
       "list"
      ]
     },
     "execution_count": 20,
     "metadata": {},
     "output_type": "execute_result"
    }
   ],
   "source": [
    "# We can access the value through the key 'embedding' which returns a list\n",
    "type(embeds['embedding'])"
   ]
  },
  {
   "cell_type": "markdown",
   "id": "15b71af8",
   "metadata": {},
   "source": [
    "We can see the sentence is represented by a vector of numbers totally a count of 1024, this varies, and can be a larger or smaller number."
   ]
  },
  {
   "cell_type": "code",
   "execution_count": 21,
   "id": "2303b361-6cd1-462a-b060-b5eb20662ebc",
   "metadata": {},
   "outputs": [
    {
     "data": {
      "text/plain": [
       "1024"
      ]
     },
     "execution_count": 21,
     "metadata": {},
     "output_type": "execute_result"
    }
   ],
   "source": [
    "# Check length of list\n",
    "len(embeds['embedding'])"
   ]
  },
  {
   "cell_type": "code",
   "execution_count": 22,
   "id": "d936d169-3d52-4057-905d-2491b20f617a",
   "metadata": {},
   "outputs": [
    {
     "data": {
      "text/plain": [
       "[-0.6146689653396606,\n",
       " 0.22128450870513916,\n",
       " 0.19337491691112518,\n",
       " -0.6306122541427612,\n",
       " -0.7143896818161011,\n",
       " 0.3647981584072113,\n",
       " 0.05146953463554382,\n",
       " 0.5699551105499268,\n",
       " 0.8753001093864441,\n",
       " 0.983851432800293]"
      ]
     },
     "execution_count": 22,
     "metadata": {},
     "output_type": "execute_result"
    }
   ],
   "source": [
    "# Sample 10 elements in the list\n",
    "embeds['embedding'][:10]"
   ]
  },
  {
   "cell_type": "markdown",
   "id": "f3077097",
   "metadata": {},
   "source": [
    "If you look at the first 10 of our embedding of the sentence, you can see it's a bunch of positive/negative floating numbers that represent our sentence. Doing this allows us to convert text to a fixed dimension of numbers (in a vector) and run meaningful mathematical operations on them such as cosine similarity to have a simple indication of similarity of sentences/words."
   ]
  },
  {
   "cell_type": "markdown",
   "id": "a01cb0a0-0121-43dd-8040-1b7f9126e928",
   "metadata": {},
   "source": [
    "## Embedding Comparisons"
   ]
  },
  {
   "cell_type": "markdown",
   "id": "2c1200c8",
   "metadata": {},
   "source": [
    "In this section, we:\n",
    "\n",
    "1. create 3 sentence,\n",
    "2. leverage on the `mxbai-embed-large` embedding model, we convert these 3 sentences individually into sentence embeddings essentially converting 3 bunch of texts into 3 vectors of numbers.\n",
    "3. run cosine similarity amongst the sentence embeddings to measure the similarity amongst the sentences. \n",
    "\n",
    "There are many different measures beyond cosine similarity like L1 distance (Manhattan distance), L2 distance (Euclidean distance), dot product similarity, max inner product similarity, and many more. However, cosine similarity is one of the most common and we chose it as regardless of the different methods to measure similarity, the other algorithms achieve the same objective of measuring similarity."
   ]
  },
  {
   "cell_type": "markdown",
   "id": "7c726fd3-2edd-48fe-a17e-bab0b8384212",
   "metadata": {},
   "source": [
    "### Cosine Similarity"
   ]
  },
  {
   "cell_type": "code",
   "execution_count": 13,
   "id": "55582009-8c4c-43e2-90b7-e2919a2c10d4",
   "metadata": {},
   "outputs": [],
   "source": [
    "# Text & Embeddings 1\n",
    "text = 'Apple, oranges, and grapes are good fruits.'\n",
    "embeds_1 = ollama.embeddings(model='mxbai-embed-large', \n",
    "                             prompt=f'{text}')\n",
    "\n",
    "# Text & Embeddings 2\n",
    "text = 'Eating a good balance of meat, vegetables, and fruits everyday is good for you.'\n",
    "embeds_2 = ollama.embeddings(model='mxbai-embed-large', \n",
    "                             prompt=f'{text}')\n",
    "\n",
    "\n",
    "# Text & Embeddings 3\n",
    "text = 'How to be a good data engineer?'\n",
    "embeds_3 = ollama.embeddings(model='mxbai-embed-large', \n",
    "                             prompt=f'{text}')"
   ]
  },
  {
   "cell_type": "markdown",
   "id": "21f86bf7-6784-4959-a97b-d6383f6519c9",
   "metadata": {},
   "source": [
    "The cosine similarity between two vectors $ \\mathbf{A} $ and $ \\mathbf{B} $ is calculated using the following formula:\n",
    "\n",
    "$$\n",
    "\\text{cosine\\_similarity}(\\mathbf{A}, \\mathbf{B}) = \\frac{\\mathbf{A} \\cdot \\mathbf{B}}{\\|\\mathbf{A}\\| \\cdot \\|\\mathbf{B}\\|}\n",
    "$$\n",
    "\n",
    "Where:\n",
    "\n",
    "- $\\mathbf{A} \\cdot \\mathbf{B}$ denotes the dot product of vectors $\\mathbf{A}$ and $\\mathbf{B}$.\n",
    "- $\\|\\mathbf{A}\\|$ denotes the Euclidean norm (magnitude) of vector $\\mathbf{A}$.\n",
    "- $\\|\\mathbf{B}\\|$ denotes the Euclidean norm (magnitude) of vector $\\mathbf{B}$.\n",
    "\n",
    "The dot product of two vectors is the sum of the products of their corresponding components. Mathematically, if $\\mathbf{A} = [a_1, a_2, ..., a_n]$ and $\\mathbf{B} = [b_1, b_2, ..., b_n]$, then the dot product $\\mathbf{A} \\cdot \\mathbf{B}$ is:\n",
    "\n",
    "$$\n",
    "\\mathbf{A} \\cdot \\mathbf{B} = a_1 \\times b_1 + a_2 \\times b_2 + \\cdots + a_n \\times b_n\n",
    "$$\n",
    "\n",
    "The Euclidean norm of a vector is the square root of the sum of the squares of its components. For a vector $\\mathbf{V} = [v_1, v_2, ..., v_n]$, the Euclidean norm $\\|\\mathbf{V}\\|$ is:\n",
    "\n",
    "$$\n",
    "\\|\\mathbf{V}\\| = \\sqrt{v_1^2 + v_2^2 + \\cdots + v_n^2}\n",
    "$$\n",
    "\n",
    "So, to calculate the cosine similarity between two vectors, we take their dot product and divide it by the product of their magnitudes.\n",
    "\n",
    "This formula computes the cosine of the angle between the two vectors. If the angle is small (cosine close to 1), the vectors are similar; if it's large (cosine close to -1), they are dissimilar. If the angle is 90 degrees (cosine 0), the vectors are orthogonal and have no similarity.\n"
   ]
  },
  {
   "cell_type": "code",
   "execution_count": 14,
   "id": "ec024a73-3b37-43cd-b1be-08a1281e3a12",
   "metadata": {},
   "outputs": [],
   "source": [
    "import numpy as np\n",
    "\n",
    "def cosine_similarity(vector1, vector2):\n",
    "    dot_product = np.dot(vector1, vector2)\n",
    "    norm_vector1 = np.linalg.norm(vector1)\n",
    "    norm_vector2 = np.linalg.norm(vector2)\n",
    "    similarity = dot_product / (norm_vector1 * norm_vector2)\n",
    "    return similarity"
   ]
  },
  {
   "cell_type": "markdown",
   "id": "034f98f6",
   "metadata": {},
   "source": [
    "Above, we created a cosine similarity function using numpy, and this can be easily replicated in PyTorch, Jax, and any other libraries that optimise vector computations."
   ]
  },
  {
   "cell_type": "markdown",
   "id": "baeefb7d",
   "metadata": {},
   "source": [
    "#### Cosine Similarity: Sentence 1 vs Sentence 3\n",
    "\n",
    "Given the sentences `Apple, oranges, and grapes are good fruits.` and `Eating a good balance of meat, vegetables, and fruits everyday is good for you.` we should expect some level of similarity, and in turn, a higher score. Cosine similarity returns a floating number that ranges between 0 to 1, the closer to 1 indicates higher similarity. And we can see it's indeed high at 0.70."
   ]
  },
  {
   "cell_type": "code",
   "execution_count": 15,
   "id": "3a29d0e3-58f6-4c1a-8881-c6b6698463cf",
   "metadata": {},
   "outputs": [
    {
     "data": {
      "text/plain": [
       "0.6990337492754806"
      ]
     },
     "execution_count": 15,
     "metadata": {},
     "output_type": "execute_result"
    }
   ],
   "source": [
    "# Comparison 1/2\n",
    "cosine_similarity(np.array(embeds_1['embedding']), np.array(embeds_2['embedding']))"
   ]
  },
  {
   "cell_type": "markdown",
   "id": "73e774b2",
   "metadata": {},
   "source": [
    "#### Cosine Similarity: Sentence 1 vs Sentence 3\n",
    "\n",
    "Given the sentences `Apple, oranges, and grapes are good fruits.` and `How to be a good data engineer?` we should expect a low level of similarity, and in turn, a lower score. Indeed, in this case we can see how it is 0.30 which is substantially lower than 0.70 when we ran cosine similarity between sentence 1 and sentence 2."
   ]
  },
  {
   "cell_type": "code",
   "execution_count": 25,
   "id": "91e4b6bc",
   "metadata": {},
   "outputs": [
    {
     "data": {
      "text/plain": [
       "0.31111347652792015"
      ]
     },
     "execution_count": 25,
     "metadata": {},
     "output_type": "execute_result"
    }
   ],
   "source": [
    "# Comparison 1/3\n",
    "cosine_similarity(np.array(embeds_1['embedding']), np.array(embeds_3['embedding']))"
   ]
  },
  {
   "cell_type": "markdown",
   "id": "a2b03958",
   "metadata": {},
   "source": [
    "## Summary\n",
    "\n",
    "With a basic understanding of embeddings and how we convert sentences into sentence embeddings, we can now proceed to cover the \"R\" of RAG, which represents \"Retrieval\" followed by the \"AG\" of RAG which leverages on LLMs to take our retrieved chunks and answers questions."
   ]
  }
 ],
 "metadata": {
  "kernelspec": {
   "display_name": "Python 3 (ipykernel)",
   "language": "python",
   "name": "python3"
  },
  "language_info": {
   "codemirror_mode": {
    "name": "ipython",
    "version": 3
   },
   "file_extension": ".py",
   "mimetype": "text/x-python",
   "name": "python",
   "nbconvert_exporter": "python",
   "pygments_lexer": "ipython3",
   "version": "3.11.0"
  }
 },
 "nbformat": 4,
 "nbformat_minor": 5
}
